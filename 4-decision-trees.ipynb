{
 "cells": [
  {
   "cell_type": "markdown",
   "metadata": {},
   "source": [
    "# Decision Trees"
   ]
  },
  {
   "cell_type": "code",
   "execution_count": 1,
   "metadata": {},
   "outputs": [],
   "source": [
    "import warnings\n",
    "warnings.filterwarnings(\"ignore\")\n",
    "\n",
    "import pandas as pd\n",
    "import numpy as np\n",
    "from sklearn.model_selection import train_test_split\n",
    "from sklearn.metrics import accuracy_score, f1_score, precision_score, recall_score\n",
    "from sklearn.tree import DecisionTreeClassifier\n",
    "from sklearn.preprocessing import MinMaxScaler\n",
    "from imblearn.over_sampling import SMOTE"
   ]
  },
  {
   "cell_type": "code",
   "execution_count": 2,
   "metadata": {},
   "outputs": [],
   "source": [
    "df = pd.read_csv('data/UCI_Credit_Card.csv')\n",
    "y = df['default.payment.next.month']\n",
    "X = df.drop(columns=['default.payment.next.month'], axis=1)\n",
    "X_train, X_test, y_train, y_test = train_test_split(X, y, random_state=0)"
   ]
  },
  {
   "cell_type": "code",
   "execution_count": 3,
   "metadata": {},
   "outputs": [],
   "source": [
    "def get_metrics(model):\n",
    "    metrics = {}\n",
    "    \n",
    "    y_hat_train = model.predict(X_train)\n",
    "    y_hat_test = model.predict(X_test)\n",
    "    \n",
    "    metrics['train_accuracy'] = accuracy_score(y_train, y_hat_train)\n",
    "    metrics['test_accuracy'] = accuracy_score(y_test, y_hat_test)\n",
    "    \n",
    "    metrics['train_f1'] = f1_score(y_train, y_hat_train)\n",
    "    metrics['test_f1'] = f1_score(y_test, y_hat_test)\n",
    "    \n",
    "    metrics['train_precision'] = precision_score(y_train, y_hat_train)\n",
    "    metrics['test_precision'] = precision_score(y_test, y_hat_test)\n",
    "    \n",
    "    metrics['train_recall'] = recall_score(y_train, y_hat_train)\n",
    "    metrics['test_recall'] = recall_score(y_test, y_hat_test)\n",
    "    \n",
    "    return metrics"
   ]
  },
  {
   "cell_type": "markdown",
   "metadata": {},
   "source": [
    "## Baseline Model"
   ]
  },
  {
   "cell_type": "code",
   "execution_count": 4,
   "metadata": {},
   "outputs": [
    {
     "data": {
      "text/plain": [
       "{'train_accuracy': 1.0,\n",
       " 'test_accuracy': 0.7276,\n",
       " 'train_f1': 1.0,\n",
       " 'test_f1': 0.3896026292201972,\n",
       " 'train_precision': 1.0,\n",
       " 'test_precision': 0.3801749271137026,\n",
       " 'train_recall': 1.0,\n",
       " 'test_recall': 0.39950980392156865}"
      ]
     },
     "execution_count": 4,
     "metadata": {},
     "output_type": "execute_result"
    }
   ],
   "source": [
    "clf0 = DecisionTreeClassifier(random_state=10)\n",
    "clf0.fit(X_train, y_train)\n",
    "get_metrics(clf0)"
   ]
  },
  {
   "cell_type": "markdown",
   "metadata": {},
   "source": [
    "## Data Cleaning"
   ]
  },
  {
   "cell_type": "code",
   "execution_count": 5,
   "metadata": {},
   "outputs": [],
   "source": [
    "to_drop = ['ID']\n",
    "categoricals = ['SEX', 'EDUCATION', 'MARRIAGE']\n",
    "continuous = ['LIMIT_BAL', 'AGE', 'PAY_0', 'PAY_2', 'PAY_3', 'PAY_4', 'PAY_5', 'PAY_6', 'BILL_AMT1', 'BILL_AMT2', 'BILL_AMT3', 'BILL_AMT4', 'BILL_AMT5', 'BILL_AMT6', 'PAY_AMT1', 'PAY_AMT2', 'PAY_AMT3', 'PAY_AMT4', 'PAY_AMT5', 'PAY_AMT6']\n",
    "target = ['default.payment.next.month']"
   ]
  },
  {
   "cell_type": "code",
   "execution_count": 6,
   "metadata": {},
   "outputs": [],
   "source": [
    "X_train.drop(to_drop, axis=1, inplace=True)\n",
    "X_test.drop(to_drop, axis=1, inplace=True)\n",
    "for col in ['PAY_0', 'PAY_2', 'PAY_3', 'PAY_4', 'PAY_5', 'PAY_6']:\n",
    "    X_train[col] = X_train[col].map(lambda x: 0 if x <= 0 else x)\n",
    "    X_test[col] = X_test[col].map(lambda x: 0 if x <= 0 else x)"
   ]
  },
  {
   "cell_type": "code",
   "execution_count": 7,
   "metadata": {},
   "outputs": [
    {
     "data": {
      "text/plain": [
       "{'train_accuracy': 0.9996888888888888,\n",
       " 'test_accuracy': 0.7276,\n",
       " 'train_f1': 0.999300209937019,\n",
       " 'test_f1': 0.3989408649602824,\n",
       " 'train_precision': 0.9997999599919984,\n",
       " 'test_precision': 0.3837011884550085,\n",
       " 'train_recall': 0.9988009592326139,\n",
       " 'test_recall': 0.41544117647058826}"
      ]
     },
     "execution_count": 7,
     "metadata": {},
     "output_type": "execute_result"
    }
   ],
   "source": [
    "clf1 = DecisionTreeClassifier(random_state=10)\n",
    "clf1.fit(X_train, y_train)\n",
    "get_metrics(clf1)"
   ]
  },
  {
   "cell_type": "markdown",
   "metadata": {},
   "source": [
    "## Creating Dummy Variables"
   ]
  },
  {
   "cell_type": "code",
   "execution_count": 8,
   "metadata": {},
   "outputs": [],
   "source": [
    "for col in categoricals:\n",
    "    X_train[col] = X_train[col].map(str)\n",
    "    X_test[col] = X_test[col].map(str)\n",
    "X_train = pd.get_dummies(X_train, drop_first=True, dtype=int)\n",
    "X_test = pd.get_dummies(X_test, drop_first=True, dtype=int)"
   ]
  },
  {
   "cell_type": "code",
   "execution_count": 9,
   "metadata": {},
   "outputs": [
    {
     "data": {
      "text/plain": [
       "{'train_accuracy': 0.9996888888888888,\n",
       " 'test_accuracy': 0.7294666666666667,\n",
       " 'train_f1': 0.999300209937019,\n",
       " 'test_f1': 0.3945091017606685,\n",
       " 'train_precision': 0.9997999599919984,\n",
       " 'test_precision': 0.3845258871436882,\n",
       " 'train_recall': 0.9988009592326139,\n",
       " 'test_recall': 0.4050245098039216}"
      ]
     },
     "execution_count": 9,
     "metadata": {},
     "output_type": "execute_result"
    }
   ],
   "source": [
    "clf2 = DecisionTreeClassifier(random_state=10)\n",
    "clf2.fit(X_train, y_train)\n",
    "get_metrics(clf2)"
   ]
  },
  {
   "cell_type": "markdown",
   "metadata": {},
   "source": [
    "## Transforming Continuous Variables"
   ]
  },
  {
   "cell_type": "code",
   "execution_count": 10,
   "metadata": {},
   "outputs": [],
   "source": [
    "scaler = MinMaxScaler()\n",
    "X_train = pd.DataFrame(scaler.fit_transform(X_train))\n",
    "X_test = pd.DataFrame(scaler.transform(X_test))"
   ]
  },
  {
   "cell_type": "code",
   "execution_count": 11,
   "metadata": {},
   "outputs": [
    {
     "data": {
      "text/plain": [
       "{'train_accuracy': 0.9996888888888888,\n",
       " 'test_accuracy': 0.7298666666666667,\n",
       " 'train_f1': 0.999300209937019,\n",
       " 'test_f1': 0.39630512514898686,\n",
       " 'train_precision': 0.9997999599919984,\n",
       " 'test_precision': 0.3857308584686775,\n",
       " 'train_recall': 0.9988009592326139,\n",
       " 'test_recall': 0.4074754901960784}"
      ]
     },
     "execution_count": 11,
     "metadata": {},
     "output_type": "execute_result"
    }
   ],
   "source": [
    "clf3 = DecisionTreeClassifier(random_state=10)\n",
    "clf3.fit(X_train, y_train)\n",
    "get_metrics(clf3)"
   ]
  },
  {
   "cell_type": "code",
   "execution_count": 12,
   "metadata": {},
   "outputs": [],
   "source": [
    "X_train = X_train.applymap(lambda x: np.log(x+1))\n",
    "X_test = X_test.applymap(lambda x: np.log(x+1))"
   ]
  },
  {
   "cell_type": "code",
   "execution_count": 13,
   "metadata": {},
   "outputs": [
    {
     "data": {
      "text/plain": [
       "{'train_accuracy': 0.9996888888888888,\n",
       " 'test_accuracy': 0.7294666666666667,\n",
       " 'train_f1': 0.999300209937019,\n",
       " 'test_f1': 0.39559130175752155,\n",
       " 'train_precision': 0.9997999599919984,\n",
       " 'test_precision': 0.3849275362318841,\n",
       " 'train_recall': 0.9988009592326139,\n",
       " 'test_recall': 0.4068627450980392}"
      ]
     },
     "execution_count": 13,
     "metadata": {},
     "output_type": "execute_result"
    }
   ],
   "source": [
    "clf4 = DecisionTreeClassifier(random_state=10)\n",
    "clf4.fit(X_train, y_train)\n",
    "get_metrics(clf4)"
   ]
  },
  {
   "cell_type": "markdown",
   "metadata": {},
   "source": [
    "## Addressing Class Imbalance"
   ]
  },
  {
   "cell_type": "code",
   "execution_count": 14,
   "metadata": {},
   "outputs": [
    {
     "data": {
      "text/plain": [
       "(0    23364\n",
       " 1     6636\n",
       " Name: default.payment.next.month, dtype: int64,\n",
       " 0    17496\n",
       " 1     5004\n",
       " Name: default.payment.next.month, dtype: int64,\n",
       " 0    5868\n",
       " 1    1632\n",
       " Name: default.payment.next.month, dtype: int64)"
      ]
     },
     "execution_count": 14,
     "metadata": {},
     "output_type": "execute_result"
    }
   ],
   "source": [
    "df[target[0]].value_counts(), y_train.value_counts(), y_test.value_counts()"
   ]
  },
  {
   "cell_type": "code",
   "execution_count": 15,
   "metadata": {},
   "outputs": [],
   "source": [
    "X_train, y_train = SMOTE().fit_resample(X_train, y_train)"
   ]
  },
  {
   "cell_type": "code",
   "execution_count": 16,
   "metadata": {},
   "outputs": [
    {
     "data": {
      "text/plain": [
       "{'train_accuracy': 0.9997999542752629,\n",
       " 'test_accuracy': 0.6929333333333333,\n",
       " 'train_f1': 0.9997999256866836,\n",
       " 'test_f1': 0.41473951715374846,\n",
       " 'train_precision': 0.9999428277399806,\n",
       " 'test_precision': 0.3543204515848893,\n",
       " 'train_recall': 0.9996570644718793,\n",
       " 'test_recall': 0.5}"
      ]
     },
     "execution_count": 16,
     "metadata": {},
     "output_type": "execute_result"
    }
   ],
   "source": [
    "clf5 = DecisionTreeClassifier(random_state=10)\n",
    "clf5.fit(X_train, y_train)\n",
    "get_metrics(clf5)"
   ]
  },
  {
   "cell_type": "code",
   "execution_count": null,
   "metadata": {},
   "outputs": [],
   "source": []
  }
 ],
 "metadata": {
  "kernelspec": {
   "display_name": "learn-env",
   "language": "python",
   "name": "learn-env"
  },
  "language_info": {
   "codemirror_mode": {
    "name": "ipython",
    "version": 3
   },
   "file_extension": ".py",
   "mimetype": "text/x-python",
   "name": "python",
   "nbconvert_exporter": "python",
   "pygments_lexer": "ipython3",
   "version": "3.6.9"
  }
 },
 "nbformat": 4,
 "nbformat_minor": 4
}
