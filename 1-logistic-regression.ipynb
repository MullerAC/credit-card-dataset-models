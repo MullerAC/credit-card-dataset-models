{
 "cells": [
  {
   "cell_type": "markdown",
   "metadata": {},
   "source": [
    "# Logistic Regression"
   ]
  },
  {
   "cell_type": "code",
   "execution_count": 1,
   "metadata": {},
   "outputs": [],
   "source": [
    "import warnings\n",
    "warnings.filterwarnings(\"ignore\")\n",
    "\n",
    "import pandas as pd\n",
    "import numpy as np\n",
    "from sklearn.model_selection import train_test_split\n",
    "from sklearn.metrics import accuracy_score, f1_score, precision_score, recall_score\n",
    "from sklearn.linear_model import LogisticRegression\n",
    "from sklearn.preprocessing import MinMaxScaler\n",
    "from imblearn.over_sampling import SMOTE"
   ]
  },
  {
   "cell_type": "code",
   "execution_count": 2,
   "metadata": {},
   "outputs": [],
   "source": [
    "df = pd.read_csv('data/UCI_Credit_Card.csv')\n",
    "y = df['default.payment.next.month']\n",
    "X = df.drop(columns=['default.payment.next.month'], axis=1)\n",
    "X_train, X_test, y_train, y_test = train_test_split(X, y, random_state=0)"
   ]
  },
  {
   "cell_type": "code",
   "execution_count": 3,
   "metadata": {},
   "outputs": [],
   "source": [
    "def get_metrics(model):\n",
    "    metrics = {}\n",
    "    \n",
    "    y_hat_train = model.predict(X_train)\n",
    "    y_hat_test = model.predict(X_test)\n",
    "    \n",
    "    metrics['train_accuracy'] = accuracy_score(y_train, y_hat_train)\n",
    "    metrics['test_accuracy'] = accuracy_score(y_test, y_hat_test)\n",
    "    \n",
    "    metrics['train_f1'] = f1_score(y_train, y_hat_train)\n",
    "    metrics['test_f1'] = f1_score(y_test, y_hat_test)\n",
    "    \n",
    "    metrics['train_precision'] = precision_score(y_train, y_hat_train)\n",
    "    metrics['test_precision'] = precision_score(y_test, y_hat_test)\n",
    "    \n",
    "    metrics['train_recall'] = recall_score(y_train, y_hat_train)\n",
    "    metrics['test_recall'] = recall_score(y_test, y_hat_test)\n",
    "    \n",
    "    return metrics"
   ]
  },
  {
   "cell_type": "markdown",
   "metadata": {},
   "source": [
    "## Baseline Model"
   ]
  },
  {
   "cell_type": "code",
   "execution_count": 4,
   "metadata": {
    "scrolled": true
   },
   "outputs": [
    {
     "data": {
      "text/plain": [
       "{'train_accuracy': 0.7775555555555556,\n",
       " 'test_accuracy': 0.7825333333333333,\n",
       " 'train_f1': 0.0003994407829039345,\n",
       " 'test_f1': 0.0012247397428046538,\n",
       " 'train_precision': 0.3333333333333333,\n",
       " 'test_precision': 1.0,\n",
       " 'train_recall': 0.00019984012789768185,\n",
       " 'test_recall': 0.0006127450980392157}"
      ]
     },
     "execution_count": 4,
     "metadata": {},
     "output_type": "execute_result"
    }
   ],
   "source": [
    "logreg0 = LogisticRegression(fit_intercept=False, C=1e12, solver='liblinear')\n",
    "logreg0.fit(X_train, y_train)\n",
    "get_metrics(logreg0)"
   ]
  },
  {
   "cell_type": "markdown",
   "metadata": {},
   "source": [
    "## Data Cleaning"
   ]
  },
  {
   "cell_type": "code",
   "execution_count": 5,
   "metadata": {},
   "outputs": [],
   "source": [
    "to_drop = ['ID']\n",
    "categoricals = ['SEX', 'EDUCATION', 'MARRIAGE']\n",
    "continuous = ['LIMIT_BAL', 'AGE', 'PAY_0', 'PAY_2', 'PAY_3', 'PAY_4', 'PAY_5', 'PAY_6', 'BILL_AMT1', 'BILL_AMT2', 'BILL_AMT3', 'BILL_AMT4', 'BILL_AMT5', 'BILL_AMT6', 'PAY_AMT1', 'PAY_AMT2', 'PAY_AMT3', 'PAY_AMT4', 'PAY_AMT5', 'PAY_AMT6']\n",
    "target = ['default.payment.next.month']"
   ]
  },
  {
   "cell_type": "code",
   "execution_count": 6,
   "metadata": {},
   "outputs": [],
   "source": [
    "X_train.drop(to_drop, axis=1, inplace=True)\n",
    "X_test.drop(to_drop, axis=1, inplace=True)\n",
    "for col in ['PAY_0', 'PAY_2', 'PAY_3', 'PAY_4', 'PAY_5', 'PAY_6']:\n",
    "    X_train[col] = X_train[col].map(lambda x: 0 if x <= 0 else x)\n",
    "    X_test[col] = X_test[col].map(lambda x: 0 if x <= 0 else x)"
   ]
  },
  {
   "cell_type": "code",
   "execution_count": 7,
   "metadata": {},
   "outputs": [
    {
     "data": {
      "text/plain": [
       "{'train_accuracy': 0.7775111111111112,\n",
       " 'test_accuracy': 0.7825333333333333,\n",
       " 'train_f1': 0.0,\n",
       " 'test_f1': 0.0012247397428046538,\n",
       " 'train_precision': 0.0,\n",
       " 'test_precision': 1.0,\n",
       " 'train_recall': 0.0,\n",
       " 'test_recall': 0.0006127450980392157}"
      ]
     },
     "execution_count": 7,
     "metadata": {},
     "output_type": "execute_result"
    }
   ],
   "source": [
    "logreg1 = LogisticRegression(fit_intercept=False, C=1e12, solver='liblinear')\n",
    "logreg1.fit(X_train, y_train)\n",
    "get_metrics(logreg1)"
   ]
  },
  {
   "cell_type": "markdown",
   "metadata": {},
   "source": [
    "## Creating Dummy Variables"
   ]
  },
  {
   "cell_type": "code",
   "execution_count": 8,
   "metadata": {},
   "outputs": [],
   "source": [
    "for col in categoricals:\n",
    "    X_train[col] = X_train[col].map(str)\n",
    "    X_test[col] = X_test[col].map(str)\n",
    "X_train = pd.get_dummies(X_train, drop_first=True, dtype=int)\n",
    "X_test = pd.get_dummies(X_test, drop_first=True, dtype=int)"
   ]
  },
  {
   "cell_type": "code",
   "execution_count": 9,
   "metadata": {},
   "outputs": [
    {
     "data": {
      "text/plain": [
       "{'train_accuracy': 0.7775111111111112,\n",
       " 'test_accuracy': 0.7825333333333333,\n",
       " 'train_f1': 0.0,\n",
       " 'test_f1': 0.0012247397428046538,\n",
       " 'train_precision': 0.0,\n",
       " 'test_precision': 1.0,\n",
       " 'train_recall': 0.0,\n",
       " 'test_recall': 0.0006127450980392157}"
      ]
     },
     "execution_count": 9,
     "metadata": {},
     "output_type": "execute_result"
    }
   ],
   "source": [
    "logreg2 = LogisticRegression(fit_intercept=False, C=1e12, solver='liblinear')\n",
    "logreg2.fit(X_train, y_train)\n",
    "get_metrics(logreg2)"
   ]
  },
  {
   "cell_type": "markdown",
   "metadata": {},
   "source": [
    "## Transforming Continuous Variables"
   ]
  },
  {
   "cell_type": "code",
   "execution_count": 10,
   "metadata": {},
   "outputs": [],
   "source": [
    "scaler = MinMaxScaler()\n",
    "X_train = pd.DataFrame(scaler.fit_transform(X_train))\n",
    "X_test = pd.DataFrame(scaler.transform(X_test))"
   ]
  },
  {
   "cell_type": "code",
   "execution_count": 11,
   "metadata": {},
   "outputs": [
    {
     "data": {
      "text/plain": [
       "{'train_accuracy': 0.8154666666666667,\n",
       " 'test_accuracy': 0.8192,\n",
       " 'train_f1': 0.4327868852459016,\n",
       " 'test_f1': 0.4278481012658228,\n",
       " 'train_precision': 0.6839378238341969,\n",
       " 'test_precision': 0.6869918699186992,\n",
       " 'train_recall': 0.31654676258992803,\n",
       " 'test_recall': 0.31066176470588236}"
      ]
     },
     "execution_count": 11,
     "metadata": {},
     "output_type": "execute_result"
    }
   ],
   "source": [
    "logreg3 = LogisticRegression(fit_intercept=False, C=1e12, solver='liblinear')\n",
    "logreg3.fit(X_train, y_train)\n",
    "get_metrics(logreg3)"
   ]
  },
  {
   "cell_type": "code",
   "execution_count": 12,
   "metadata": {
    "scrolled": true
   },
   "outputs": [],
   "source": [
    "X_train = X_train.applymap(lambda x: np.log(x+1))\n",
    "X_test = X_test.applymap(lambda x: np.log(x+1))"
   ]
  },
  {
   "cell_type": "code",
   "execution_count": 13,
   "metadata": {},
   "outputs": [
    {
     "data": {
      "text/plain": [
       "{'train_accuracy': 0.8159555555555555,\n",
       " 'test_accuracy': 0.8194666666666667,\n",
       " 'train_f1': 0.438660702182459,\n",
       " 'test_f1': 0.432523051131601,\n",
       " 'train_precision': 0.6818373367045933,\n",
       " 'test_precision': 0.6843501326259946,\n",
       " 'train_recall': 0.32334132693844925,\n",
       " 'test_recall': 0.3161764705882353}"
      ]
     },
     "execution_count": 13,
     "metadata": {},
     "output_type": "execute_result"
    }
   ],
   "source": [
    "logreg4 = LogisticRegression(fit_intercept=False, C=1e12, solver='liblinear')\n",
    "logreg4.fit(X_train, y_train)\n",
    "get_metrics(logreg4)"
   ]
  },
  {
   "cell_type": "markdown",
   "metadata": {},
   "source": [
    "## Addressing Class Imbalance"
   ]
  },
  {
   "cell_type": "code",
   "execution_count": 14,
   "metadata": {},
   "outputs": [
    {
     "data": {
      "text/plain": [
       "(0    23364\n",
       " 1     6636\n",
       " Name: default.payment.next.month, dtype: int64,\n",
       " 0    17496\n",
       " 1     5004\n",
       " Name: default.payment.next.month, dtype: int64,\n",
       " 0    5868\n",
       " 1    1632\n",
       " Name: default.payment.next.month, dtype: int64)"
      ]
     },
     "execution_count": 14,
     "metadata": {},
     "output_type": "execute_result"
    }
   ],
   "source": [
    "df[target[0]].value_counts(), y_train.value_counts(), y_test.value_counts()"
   ]
  },
  {
   "cell_type": "code",
   "execution_count": 15,
   "metadata": {},
   "outputs": [],
   "source": [
    "X_train, y_train = SMOTE().fit_resample(X_train, y_train)"
   ]
  },
  {
   "cell_type": "code",
   "execution_count": 16,
   "metadata": {},
   "outputs": [
    {
     "data": {
      "text/plain": [
       "{'train_accuracy': 0.7019890260631001,\n",
       " 'test_accuracy': 0.7770666666666667,\n",
       " 'train_f1': 0.6576943277310925,\n",
       " 'test_f1': 0.5292792792792792,\n",
       " 'train_precision': 0.7725169648365207,\n",
       " 'test_precision': 0.4895833333333333,\n",
       " 'train_recall': 0.5725880201188843,\n",
       " 'test_recall': 0.5759803921568627}"
      ]
     },
     "execution_count": 16,
     "metadata": {},
     "output_type": "execute_result"
    }
   ],
   "source": [
    "logreg5 = LogisticRegression(fit_intercept=False, C=1e12, solver='liblinear')\n",
    "logreg5.fit(X_train, y_train)\n",
    "get_metrics(logreg5)"
   ]
  }
 ],
 "metadata": {
  "kernelspec": {
   "display_name": "learn-env",
   "language": "python",
   "name": "learn-env"
  },
  "language_info": {
   "codemirror_mode": {
    "name": "ipython",
    "version": 3
   },
   "file_extension": ".py",
   "mimetype": "text/x-python",
   "name": "python",
   "nbconvert_exporter": "python",
   "pygments_lexer": "ipython3",
   "version": "3.6.9"
  }
 },
 "nbformat": 4,
 "nbformat_minor": 4
}
