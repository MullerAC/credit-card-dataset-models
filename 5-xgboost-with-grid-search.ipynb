{
 "cells": [
  {
   "cell_type": "markdown",
   "metadata": {},
   "source": [
    "# XGBoost with Grid Search"
   ]
  },
  {
   "cell_type": "code",
   "execution_count": 1,
   "metadata": {},
   "outputs": [],
   "source": [
    "import warnings\n",
    "warnings.filterwarnings(\"ignore\")\n",
    "\n",
    "import pandas as pd\n",
    "import numpy as np\n",
    "from sklearn.model_selection import train_test_split\n",
    "from sklearn.metrics import accuracy_score, f1_score, precision_score, recall_score\n",
    "from sklearn.preprocessing import MinMaxScaler\n",
    "from sklearn.model_selection import GridSearchCV\n",
    "from imblearn.over_sampling import SMOTE\n",
    "from xgboost import XGBClassifier"
   ]
  },
  {
   "cell_type": "code",
   "execution_count": 2,
   "metadata": {},
   "outputs": [],
   "source": [
    "df = pd.read_csv('data/UCI_Credit_Card.csv')\n",
    "y = df['default.payment.next.month']\n",
    "X = df.drop(columns=['default.payment.next.month'], axis=1)\n",
    "X_train, X_test, y_train, y_test = train_test_split(X, y, random_state=0)"
   ]
  },
  {
   "cell_type": "code",
   "execution_count": 3,
   "metadata": {},
   "outputs": [],
   "source": [
    "def get_metrics(model):\n",
    "    metrics = {}\n",
    "    \n",
    "    y_hat_train = model.predict(X_train)\n",
    "    y_hat_test = model.predict(X_test)\n",
    "    \n",
    "    metrics['train_accuracy'] = accuracy_score(y_train, y_hat_train)\n",
    "    metrics['test_accuracy'] = accuracy_score(y_test, y_hat_test)\n",
    "    \n",
    "    metrics['train_f1'] = f1_score(y_train, y_hat_train)\n",
    "    metrics['test_f1'] = f1_score(y_test, y_hat_test)\n",
    "    \n",
    "    metrics['train_precision'] = precision_score(y_train, y_hat_train)\n",
    "    metrics['test_precision'] = precision_score(y_test, y_hat_test)\n",
    "    \n",
    "    metrics['train_recall'] = recall_score(y_train, y_hat_train)\n",
    "    metrics['test_recall'] = recall_score(y_test, y_hat_test)\n",
    "    \n",
    "    return metrics"
   ]
  },
  {
   "cell_type": "markdown",
   "metadata": {},
   "source": [
    "## Baseline Model"
   ]
  },
  {
   "cell_type": "code",
   "execution_count": 4,
   "metadata": {},
   "outputs": [
    {
     "data": {
      "text/plain": [
       "{'train_accuracy': 0.8242666666666667,\n",
       " 'test_accuracy': 0.8262666666666667,\n",
       " 'train_f1': 0.4862266112266112,\n",
       " 'test_f1': 0.4790083966413434,\n",
       " 'train_precision': 0.6950222882615156,\n",
       " 'test_precision': 0.6892980437284235,\n",
       " 'train_recall': 0.37390087929656274,\n",
       " 'test_recall': 0.36703431372549017}"
      ]
     },
     "execution_count": 4,
     "metadata": {},
     "output_type": "execute_result"
    }
   ],
   "source": [
    "clf0 = XGBClassifier()\n",
    "clf0.fit(X_train, y_train)\n",
    "get_metrics(clf0)"
   ]
  },
  {
   "cell_type": "markdown",
   "metadata": {},
   "source": [
    "## Data Cleaning"
   ]
  },
  {
   "cell_type": "code",
   "execution_count": 5,
   "metadata": {},
   "outputs": [],
   "source": [
    "to_drop = ['ID']\n",
    "categoricals = ['SEX', 'EDUCATION', 'MARRIAGE']\n",
    "continuous = ['LIMIT_BAL', 'AGE', 'PAY_0', 'PAY_2', 'PAY_3', 'PAY_4', 'PAY_5', 'PAY_6', 'BILL_AMT1', 'BILL_AMT2', 'BILL_AMT3', 'BILL_AMT4', 'BILL_AMT5', 'BILL_AMT6', 'PAY_AMT1', 'PAY_AMT2', 'PAY_AMT3', 'PAY_AMT4', 'PAY_AMT5', 'PAY_AMT6']\n",
    "target = ['default.payment.next.month']"
   ]
  },
  {
   "cell_type": "code",
   "execution_count": 6,
   "metadata": {},
   "outputs": [],
   "source": [
    "X_train.drop(to_drop, axis=1, inplace=True)\n",
    "X_test.drop(to_drop, axis=1, inplace=True)\n",
    "for col in ['PAY_0', 'PAY_2', 'PAY_3', 'PAY_4', 'PAY_5', 'PAY_6']:\n",
    "    X_train[col] = X_train[col].map(lambda x: 0 if x <= 0 else x)\n",
    "    X_test[col] = X_test[col].map(lambda x: 0 if x <= 0 else x)"
   ]
  },
  {
   "cell_type": "code",
   "execution_count": 7,
   "metadata": {},
   "outputs": [
    {
     "data": {
      "text/plain": [
       "{'train_accuracy': 0.8235555555555556,\n",
       " 'test_accuracy': 0.8268,\n",
       " 'train_f1': 0.4856180357605597,\n",
       " 'test_f1': 0.4814371257485031,\n",
       " 'train_precision': 0.6904937361827561,\n",
       " 'test_precision': 0.6907216494845361,\n",
       " 'train_recall': 0.3745003996802558,\n",
       " 'test_recall': 0.3694852941176471}"
      ]
     },
     "execution_count": 7,
     "metadata": {},
     "output_type": "execute_result"
    }
   ],
   "source": [
    "clf1 = XGBClassifier()\n",
    "clf1.fit(X_train, y_train)\n",
    "get_metrics(clf1)"
   ]
  },
  {
   "cell_type": "markdown",
   "metadata": {},
   "source": [
    "## Creating Dummy Variables"
   ]
  },
  {
   "cell_type": "code",
   "execution_count": 8,
   "metadata": {},
   "outputs": [],
   "source": [
    "for col in categoricals:\n",
    "    X_train[col] = X_train[col].map(str)\n",
    "    X_test[col] = X_test[col].map(str)\n",
    "X_train = pd.get_dummies(X_train, drop_first=True, dtype=int)\n",
    "X_test = pd.get_dummies(X_test, drop_first=True, dtype=int)"
   ]
  },
  {
   "cell_type": "code",
   "execution_count": 9,
   "metadata": {},
   "outputs": [
    {
     "data": {
      "text/plain": [
       "{'train_accuracy': 0.8233333333333334,\n",
       " 'test_accuracy': 0.8268,\n",
       " 'train_f1': 0.4843689194448048,\n",
       " 'test_f1': 0.48019207683073234,\n",
       " 'train_precision': 0.6902033271719039,\n",
       " 'test_precision': 0.6920415224913494,\n",
       " 'train_recall': 0.373101518784972,\n",
       " 'test_recall': 0.36764705882352944}"
      ]
     },
     "execution_count": 9,
     "metadata": {},
     "output_type": "execute_result"
    }
   ],
   "source": [
    "clf2 = XGBClassifier()\n",
    "clf2.fit(X_train, y_train)\n",
    "get_metrics(clf2)"
   ]
  },
  {
   "cell_type": "markdown",
   "metadata": {},
   "source": [
    "## Transforming Continuous Variables"
   ]
  },
  {
   "cell_type": "code",
   "execution_count": 10,
   "metadata": {},
   "outputs": [],
   "source": [
    "scaler = MinMaxScaler()\n",
    "X_train = pd.DataFrame(scaler.fit_transform(X_train), columns=X_train.columns)\n",
    "X_test = pd.DataFrame(scaler.transform(X_test), columns=X_test.columns)"
   ]
  },
  {
   "cell_type": "code",
   "execution_count": 11,
   "metadata": {},
   "outputs": [
    {
     "data": {
      "text/plain": [
       "{'train_accuracy': 0.8233333333333334,\n",
       " 'test_accuracy': 0.8268,\n",
       " 'train_f1': 0.4843689194448048,\n",
       " 'test_f1': 0.48019207683073234,\n",
       " 'train_precision': 0.6902033271719039,\n",
       " 'test_precision': 0.6920415224913494,\n",
       " 'train_recall': 0.373101518784972,\n",
       " 'test_recall': 0.36764705882352944}"
      ]
     },
     "execution_count": 11,
     "metadata": {},
     "output_type": "execute_result"
    }
   ],
   "source": [
    "clf3 = XGBClassifier()\n",
    "clf3.fit(X_train, y_train)\n",
    "get_metrics(clf3)"
   ]
  },
  {
   "cell_type": "code",
   "execution_count": 12,
   "metadata": {},
   "outputs": [],
   "source": [
    "X_train = X_train.applymap(lambda x: np.log(x+1))\n",
    "X_test = X_test.applymap(lambda x: np.log(x+1))"
   ]
  },
  {
   "cell_type": "code",
   "execution_count": 13,
   "metadata": {},
   "outputs": [
    {
     "data": {
      "text/plain": [
       "{'train_accuracy': 0.8233333333333334,\n",
       " 'test_accuracy': 0.8268,\n",
       " 'train_f1': 0.4843689194448048,\n",
       " 'test_f1': 0.48019207683073234,\n",
       " 'train_precision': 0.6902033271719039,\n",
       " 'test_precision': 0.6920415224913494,\n",
       " 'train_recall': 0.373101518784972,\n",
       " 'test_recall': 0.36764705882352944}"
      ]
     },
     "execution_count": 13,
     "metadata": {},
     "output_type": "execute_result"
    }
   ],
   "source": [
    "clf4 = XGBClassifier()\n",
    "clf4.fit(X_train, y_train)\n",
    "get_metrics(clf4)"
   ]
  },
  {
   "cell_type": "markdown",
   "metadata": {},
   "source": [
    "## Addressing Class Imbalance"
   ]
  },
  {
   "cell_type": "code",
   "execution_count": 15,
   "metadata": {},
   "outputs": [
    {
     "data": {
      "text/plain": [
       "(0    23364\n",
       " 1     6636\n",
       " Name: default.payment.next.month, dtype: int64,\n",
       " 1    17496\n",
       " 0    17496\n",
       " dtype: int64,\n",
       " 0    5868\n",
       " 1    1632\n",
       " Name: default.payment.next.month, dtype: int64)"
      ]
     },
     "execution_count": 15,
     "metadata": {},
     "output_type": "execute_result"
    }
   ],
   "source": [
    "df[target[0]].value_counts(), y_train.value_counts(), y_test.value_counts()"
   ]
  },
  {
   "cell_type": "code",
   "execution_count": 14,
   "metadata": {},
   "outputs": [],
   "source": [
    "X_train_smote, y_train_smote = SMOTE().fit_resample(X_train, y_train)\n",
    "X_train = pd.DataFrame(X_train_smote, columns=X_train.columns)\n",
    "y_train = pd.Series(y_train_smote)"
   ]
  },
  {
   "cell_type": "code",
   "execution_count": 16,
   "metadata": {},
   "outputs": [
    {
     "data": {
      "text/plain": [
       "{'train_accuracy': 0.7828360768175583,\n",
       " 'test_accuracy': 0.7882666666666667,\n",
       " 'train_f1': 0.761809234241294,\n",
       " 'test_f1': 0.5080545229244113,\n",
       " 'train_precision': 0.8434788644408968,\n",
       " 'test_precision': 0.5137844611528822,\n",
       " 'train_recall': 0.6945587562871514,\n",
       " 'test_recall': 0.5024509803921569}"
      ]
     },
     "execution_count": 16,
     "metadata": {},
     "output_type": "execute_result"
    }
   ],
   "source": [
    "clf5 = XGBClassifier()\n",
    "clf5.fit(X_train, y_train)\n",
    "get_metrics(clf5)"
   ]
  },
  {
   "cell_type": "markdown",
   "metadata": {},
   "source": [
    "## Grid Search"
   ]
  },
  {
   "cell_type": "code",
   "execution_count": 19,
   "metadata": {},
   "outputs": [],
   "source": [
    "param_grid = {\n",
    "    'learning_rate': [0.1, 0.2],\n",
    "    'max_depth': [6],\n",
    "    'min_child_weight': [1, 2],\n",
    "    'subsample': [0.5, 0.7],\n",
    "    'n_estimators': [100],\n",
    "}"
   ]
  },
  {
   "cell_type": "code",
   "execution_count": 20,
   "metadata": {},
   "outputs": [
    {
     "data": {
      "text/plain": [
       "{'learning_rate': 0.2,\n",
       " 'max_depth': 6,\n",
       " 'min_child_weight': 1,\n",
       " 'n_estimators': 100,\n",
       " 'subsample': 0.7}"
      ]
     },
     "execution_count": 20,
     "metadata": {},
     "output_type": "execute_result"
    }
   ],
   "source": [
    "clf = XGBClassifier()\n",
    "grid_clf = GridSearchCV(clf, param_grid, scoring='accuracy', cv=None, n_jobs=1)\n",
    "grid_clf.fit(X_train, y_train)\n",
    "grid_clf.best_params_"
   ]
  },
  {
   "cell_type": "code",
   "execution_count": 21,
   "metadata": {},
   "outputs": [
    {
     "data": {
      "text/plain": [
       "{'train_accuracy': 0.8976909007773205,\n",
       " 'test_accuracy': 0.8050666666666667,\n",
       " 'train_f1': 0.8924214195564638,\n",
       " 'test_f1': 0.48119233498935415,\n",
       " 'train_precision': 0.9408820174882778,\n",
       " 'test_precision': 0.5716694772344013,\n",
       " 'train_recall': 0.848708276177412,\n",
       " 'test_recall': 0.41544117647058826}"
      ]
     },
     "execution_count": 21,
     "metadata": {},
     "output_type": "execute_result"
    }
   ],
   "source": [
    "clf6 = XGBClassifier(learning_rate= 0.2, max_depth=6, min_child_weight=1, n_estimators=100, subsample=0.7)\n",
    "clf6.fit(X_train, y_train)\n",
    "get_metrics(clf6)"
   ]
  }
 ],
 "metadata": {
  "kernelspec": {
   "display_name": "learn-env",
   "language": "python",
   "name": "learn-env"
  },
  "language_info": {
   "codemirror_mode": {
    "name": "ipython",
    "version": 3
   },
   "file_extension": ".py",
   "mimetype": "text/x-python",
   "name": "python",
   "nbconvert_exporter": "python",
   "pygments_lexer": "ipython3",
   "version": "3.6.9"
  }
 },
 "nbformat": 4,
 "nbformat_minor": 4
}
