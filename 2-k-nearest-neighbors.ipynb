{
 "cells": [
  {
   "cell_type": "markdown",
   "metadata": {},
   "source": [
    "# K Nearest Neighbors"
   ]
  },
  {
   "cell_type": "code",
   "execution_count": 1,
   "metadata": {},
   "outputs": [],
   "source": [
    "import warnings\n",
    "warnings.filterwarnings(\"ignore\")\n",
    "\n",
    "import pandas as pd\n",
    "import numpy as np\n",
    "from sklearn.model_selection import train_test_split\n",
    "from sklearn.metrics import accuracy_score, f1_score, precision_score, recall_score\n",
    "from sklearn.neighbors import KNeighborsClassifier\n",
    "from sklearn.preprocessing import MinMaxScaler\n",
    "from imblearn.over_sampling import SMOTE"
   ]
  },
  {
   "cell_type": "code",
   "execution_count": 2,
   "metadata": {},
   "outputs": [],
   "source": [
    "df = pd.read_csv('data/UCI_Credit_Card.csv')\n",
    "y = df['default.payment.next.month']\n",
    "X = df.drop(columns=['default.payment.next.month'], axis=1)\n",
    "X_train, X_test, y_train, y_test = train_test_split(X, y, random_state=0)"
   ]
  },
  {
   "cell_type": "code",
   "execution_count": 3,
   "metadata": {},
   "outputs": [],
   "source": [
    "def get_metrics(model):\n",
    "    metrics = {}\n",
    "    \n",
    "    y_hat_train = model.predict(X_train)\n",
    "    y_hat_test = model.predict(X_test)\n",
    "    \n",
    "    metrics['train_accuracy'] = accuracy_score(y_train, y_hat_train)\n",
    "    metrics['test_accuracy'] = accuracy_score(y_test, y_hat_test)\n",
    "    \n",
    "    metrics['train_f1'] = f1_score(y_train, y_hat_train)\n",
    "    metrics['test_f1'] = f1_score(y_test, y_hat_test)\n",
    "    \n",
    "    metrics['train_precision'] = precision_score(y_train, y_hat_train)\n",
    "    metrics['test_precision'] = precision_score(y_test, y_hat_test)\n",
    "    \n",
    "    metrics['train_recall'] = recall_score(y_train, y_hat_train)\n",
    "    metrics['test_recall'] = recall_score(y_test, y_hat_test)\n",
    "    \n",
    "    return metrics"
   ]
  },
  {
   "cell_type": "markdown",
   "metadata": {},
   "source": [
    "## Baseline Model"
   ]
  },
  {
   "cell_type": "code",
   "execution_count": 4,
   "metadata": {},
   "outputs": [
    {
     "data": {
      "text/plain": [
       "{'train_accuracy': 0.8119111111111111,\n",
       " 'test_accuracy': 0.7518666666666667,\n",
       " 'train_f1': 0.4337704040674338,\n",
       " 'test_f1': 0.23194387123400742,\n",
       " 'train_precision': 0.6562753036437247,\n",
       " 'test_precision': 0.3552465233881163,\n",
       " 'train_recall': 0.3239408473221423,\n",
       " 'test_recall': 0.1721813725490196}"
      ]
     },
     "execution_count": 4,
     "metadata": {},
     "output_type": "execute_result"
    }
   ],
   "source": [
    "clf0 = KNeighborsClassifier()\n",
    "clf0.fit(X_train, y_train)\n",
    "get_metrics(clf0)"
   ]
  },
  {
   "cell_type": "markdown",
   "metadata": {},
   "source": [
    "## Data Cleaning"
   ]
  },
  {
   "cell_type": "code",
   "execution_count": 5,
   "metadata": {},
   "outputs": [],
   "source": [
    "to_drop = ['ID']\n",
    "categoricals = ['SEX', 'EDUCATION', 'MARRIAGE']\n",
    "continuous = ['LIMIT_BAL', 'AGE', 'PAY_0', 'PAY_2', 'PAY_3', 'PAY_4', 'PAY_5', 'PAY_6', 'BILL_AMT1', 'BILL_AMT2', 'BILL_AMT3', 'BILL_AMT4', 'BILL_AMT5', 'BILL_AMT6', 'PAY_AMT1', 'PAY_AMT2', 'PAY_AMT3', 'PAY_AMT4', 'PAY_AMT5', 'PAY_AMT6']\n",
    "target = ['default.payment.next.month']"
   ]
  },
  {
   "cell_type": "code",
   "execution_count": 6,
   "metadata": {},
   "outputs": [],
   "source": [
    "X_train.drop(to_drop, axis=1, inplace=True)\n",
    "X_test.drop(to_drop, axis=1, inplace=True)\n",
    "for col in ['PAY_0', 'PAY_2', 'PAY_3', 'PAY_4', 'PAY_5', 'PAY_6']:\n",
    "    X_train[col] = X_train[col].map(lambda x: 0 if x <= 0 else x)\n",
    "    X_test[col] = X_test[col].map(lambda x: 0 if x <= 0 else x)"
   ]
  },
  {
   "cell_type": "code",
   "execution_count": 7,
   "metadata": {},
   "outputs": [
    {
     "data": {
      "text/plain": [
       "{'train_accuracy': 0.8152888888888888,\n",
       " 'test_accuracy': 0.7624,\n",
       " 'train_f1': 0.4446819882415821,\n",
       " 'test_f1': 0.26424442609413706,\n",
       " 'train_precision': 0.6709677419354839,\n",
       " 'test_precision': 0.4050632911392405,\n",
       " 'train_recall': 0.33253397282174263,\n",
       " 'test_recall': 0.19607843137254902}"
      ]
     },
     "execution_count": 7,
     "metadata": {},
     "output_type": "execute_result"
    }
   ],
   "source": [
    "clf1 = KNeighborsClassifier()\n",
    "clf1.fit(X_train, y_train)\n",
    "get_metrics(clf1)"
   ]
  },
  {
   "cell_type": "markdown",
   "metadata": {},
   "source": [
    "## Creating Dummy Variables"
   ]
  },
  {
   "cell_type": "code",
   "execution_count": 8,
   "metadata": {},
   "outputs": [],
   "source": [
    "for col in categoricals:\n",
    "    X_train[col] = X_train[col].map(str)\n",
    "    X_test[col] = X_test[col].map(str)\n",
    "X_train = pd.get_dummies(X_train, drop_first=True, dtype=int)\n",
    "X_test = pd.get_dummies(X_test, drop_first=True, dtype=int)"
   ]
  },
  {
   "cell_type": "code",
   "execution_count": 9,
   "metadata": {},
   "outputs": [
    {
     "data": {
      "text/plain": [
       "{'train_accuracy': 0.8153777777777778,\n",
       " 'test_accuracy': 0.7621333333333333,\n",
       " 'train_f1': 0.4448008553862604,\n",
       " 'test_f1': 0.26341866226259286,\n",
       " 'train_precision': 0.6715092816787732,\n",
       " 'test_precision': 0.40379746835443037,\n",
       " 'train_recall': 0.33253397282174263,\n",
       " 'test_recall': 0.1954656862745098}"
      ]
     },
     "execution_count": 9,
     "metadata": {},
     "output_type": "execute_result"
    }
   ],
   "source": [
    "clf2 = KNeighborsClassifier()\n",
    "clf2.fit(X_train, y_train)\n",
    "get_metrics(clf2)"
   ]
  },
  {
   "cell_type": "markdown",
   "metadata": {},
   "source": [
    "## Transforming Continuous Variables"
   ]
  },
  {
   "cell_type": "code",
   "execution_count": 10,
   "metadata": {},
   "outputs": [],
   "source": [
    "scaler = MinMaxScaler()\n",
    "X_train = pd.DataFrame(scaler.fit_transform(X_train))\n",
    "X_test = pd.DataFrame(scaler.transform(X_test))"
   ]
  },
  {
   "cell_type": "code",
   "execution_count": 11,
   "metadata": {},
   "outputs": [
    {
     "data": {
      "text/plain": [
       "{'train_accuracy': 0.8435555555555555,\n",
       " 'test_accuracy': 0.792,\n",
       " 'train_f1': 0.5680981595092024,\n",
       " 'test_f1': 0.4104308390022675,\n",
       " 'train_precision': 0.7358550540368722,\n",
       " 'test_precision': 0.5355029585798816,\n",
       " 'train_recall': 0.4626298960831335,\n",
       " 'test_recall': 0.3327205882352941}"
      ]
     },
     "execution_count": 11,
     "metadata": {},
     "output_type": "execute_result"
    }
   ],
   "source": [
    "clf3 = KNeighborsClassifier()\n",
    "clf3.fit(X_train, y_train)\n",
    "get_metrics(clf3)"
   ]
  },
  {
   "cell_type": "code",
   "execution_count": 12,
   "metadata": {},
   "outputs": [],
   "source": [
    "X_train = X_train.applymap(lambda x: np.log(x+1))\n",
    "X_test = X_test.applymap(lambda x: np.log(x+1))"
   ]
  },
  {
   "cell_type": "code",
   "execution_count": 13,
   "metadata": {},
   "outputs": [
    {
     "data": {
      "text/plain": [
       "{'train_accuracy': 0.8452,\n",
       " 'test_accuracy': 0.7938666666666667,\n",
       " 'train_f1': 0.5748809959721713,\n",
       " 'test_f1': 0.4161631419939577,\n",
       " 'train_precision': 0.7384760112888052,\n",
       " 'test_precision': 0.5423228346456693,\n",
       " 'train_recall': 0.4706235011990408,\n",
       " 'test_recall': 0.33762254901960786}"
      ]
     },
     "execution_count": 13,
     "metadata": {},
     "output_type": "execute_result"
    }
   ],
   "source": [
    "clf4 = KNeighborsClassifier()\n",
    "clf4.fit(X_train, y_train)\n",
    "get_metrics(clf4)"
   ]
  },
  {
   "cell_type": "markdown",
   "metadata": {},
   "source": [
    "## Addressing Class Imbalance"
   ]
  },
  {
   "cell_type": "code",
   "execution_count": 14,
   "metadata": {},
   "outputs": [
    {
     "data": {
      "text/plain": [
       "(0    23364\n",
       " 1     6636\n",
       " Name: default.payment.next.month, dtype: int64,\n",
       " 0    17496\n",
       " 1     5004\n",
       " Name: default.payment.next.month, dtype: int64,\n",
       " 0    5868\n",
       " 1    1632\n",
       " Name: default.payment.next.month, dtype: int64)"
      ]
     },
     "execution_count": 14,
     "metadata": {},
     "output_type": "execute_result"
    }
   ],
   "source": [
    "df[target[0]].value_counts(), y_train.value_counts(), y_test.value_counts()"
   ]
  },
  {
   "cell_type": "code",
   "execution_count": 16,
   "metadata": {},
   "outputs": [],
   "source": [
    "X_train, y_train = SMOTE().fit_resample(X_train, y_train)"
   ]
  },
  {
   "cell_type": "code",
   "execution_count": 17,
   "metadata": {},
   "outputs": [
    {
     "data": {
      "text/plain": [
       "{'train_accuracy': 0.8606824417009602,\n",
       " 'test_accuracy': 0.6646666666666666,\n",
       " 'train_f1': 0.8717881282381718,\n",
       " 'test_f1': 0.434958436306448,\n",
       " 'train_precision': 0.8074243679056852,\n",
       " 'test_precision': 0.34338417878680383,\n",
       " 'train_recall': 0.9473022405121171,\n",
       " 'test_recall': 0.5931372549019608}"
      ]
     },
     "execution_count": 17,
     "metadata": {},
     "output_type": "execute_result"
    }
   ],
   "source": [
    "clf5 = KNeighborsClassifier()\n",
    "clf5.fit(X_train, y_train)\n",
    "get_metrics(clf5)"
   ]
  },
  {
   "cell_type": "code",
   "execution_count": null,
   "metadata": {},
   "outputs": [],
   "source": []
  }
 ],
 "metadata": {
  "kernelspec": {
   "display_name": "learn-env",
   "language": "python",
   "name": "learn-env"
  },
  "language_info": {
   "codemirror_mode": {
    "name": "ipython",
    "version": 3
   },
   "file_extension": ".py",
   "mimetype": "text/x-python",
   "name": "python",
   "nbconvert_exporter": "python",
   "pygments_lexer": "ipython3",
   "version": "3.6.9"
  }
 },
 "nbformat": 4,
 "nbformat_minor": 4
}
